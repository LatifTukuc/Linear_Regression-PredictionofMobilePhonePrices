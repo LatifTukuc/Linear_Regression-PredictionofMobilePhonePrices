{
 "cells": [
  {
   "cell_type": "code",
   "execution_count": 4,
   "id": "d27ca076",
   "metadata": {
    "colab": {
     "base_uri": "https://localhost:8080/",
     "height": 373
    },
    "id": "d27ca076",
    "outputId": "88959284-e2bc-4c89-aaac-139fc22e6245"
   },
   "outputs": [],
   "source": [
    "import pandas as pd\n",
    "import numpy as np\n",
    "from bs4 import BeautifulSoup as bts\n",
    "import requests\n",
    "import time, os\n",
    "from selenium import webdriver\n",
    "from selenium.webdriver.common.keys import Keys\n",
    "import warnings\n",
    "import re \n",
    "warnings.filterwarnings(action='ignore')\n",
    "\n",
    "chromedriver = 'Users/90535/Desktop/DataScienceBootcamp/PROJECT2/calisma/chromedriver'\n",
    "os.environ[\"webdriver.chrome.driver\"] = chromedriver"
   ]
  },
  {
   "cell_type": "code",
   "execution_count": 5,
   "id": "4115b0c3",
   "metadata": {
    "id": "4115b0c3",
    "outputId": "fb0bafe0-eabe-4570-e0f7-57d4e925ede9"
   },
   "outputs": [
    {
     "data": {
      "text/plain": [
       "['https://www.epey.com/akilli-telefonlar/',\n",
       " 'https://www.epey.com/akilli-telefonlar/2/',\n",
       " 'https://www.epey.com/akilli-telefonlar/3/',\n",
       " 'https://www.epey.com/akilli-telefonlar/4/',\n",
       " 'https://www.epey.com/akilli-telefonlar/5/',\n",
       " 'https://www.epey.com/akilli-telefonlar/6/',\n",
       " 'https://www.epey.com/akilli-telefonlar/7/',\n",
       " 'https://www.epey.com/akilli-telefonlar/8/',\n",
       " 'https://www.epey.com/akilli-telefonlar/9/',\n",
       " 'https://www.epey.com/akilli-telefonlar/10/']"
      ]
     },
     "execution_count": 5,
     "metadata": {},
     "output_type": "execute_result"
    }
   ],
   "source": [
    "#FİRST 10 PAGES\n",
    "product_pages = ['https://www.epey.com/akilli-telefonlar/']\n",
    "\n",
    "for i in range(2,11):\n",
    "  product_pages.append('https://www.epey.com/akilli-telefonlar/'+str(i)+'/')\n",
    "\n",
    "product_pages"
   ]
  },
  {
   "cell_type": "code",
   "execution_count": null,
   "id": "ddcd839a",
   "metadata": {
    "id": "ddcd839a",
    "outputId": "1f3a5ff6-0e2b-4f72-f5fe-9dfea2d1f084",
    "scrolled": true
   },
   "outputs": [
    {
     "data": {
      "text/plain": [
       "['https://www.epey.com/akilli-telefonlar/apple-iphone-14-pro-max-1tb.html',\n",
       " 'https://www.epey.com/akilli-telefonlar/apple-iphone-14-pro-1tb.html',\n",
       " 'https://www.epey.com/akilli-telefonlar/samsung-galaxy-s22-ultra-512gb.html',\n",
       " 'https://www.epey.com/akilli-telefonlar/apple-iphone-13-pro-max-1tb.html',\n",
       " 'https://www.epey.com/akilli-telefonlar/xiaomi-12-pro.html',\n",
       " 'https://www.epey.com/akilli-telefonlar/oneplus-9-pro.html',\n",
       " 'https://www.epey.com/akilli-telefonlar/samsung-galaxy-z-fold4-1tb.html',\n",
       " 'https://www.epey.com/akilli-telefonlar/samsung-galaxy-s21-ultra-256gb.html',\n",
       " 'https://www.epey.com/akilli-telefonlar/huawei-mate-50-pro-512gb.html',\n",
       " 'https://www.epey.com/akilli-telefonlar/xiaomi-12t-pro.html',\n",
       " 'https://www.epey.com/akilli-telefonlar/apple-iphone-13-pro-1tb.html',\n",
       " 'https://www.epey.com/akilli-telefonlar/samsung-galaxy-s22-plus-256gb.html',\n",
       " 'https://www.epey.com/akilli-telefonlar/xiaomi-12.html',\n",
       " 'https://www.epey.com/akilli-telefonlar/oneplus-8-pro-256gb.html',\n",
       " 'https://www.epey.com/akilli-telefonlar/huawei-mate-40-pro-5g.html',\n",
       " 'https://www.epey.com/akilli-telefonlar/huawei-p50-pro.html',\n",
       " 'https://www.epey.com/akilli-telefonlar/apple-iphone-14-plus-512gb.html',\n",
       " 'https://www.epey.com/akilli-telefonlar/samsung-galaxy-s20-ultra.html',\n",
       " 'https://www.epey.com/akilli-telefonlar/xiaomi-12-8gb.html',\n",
       " 'https://www.epey.com/akilli-telefonlar/poco-f4-gt.html',\n",
       " 'https://www.epey.com/akilli-telefonlar/apple-iphone-12-pro-max-512gb.html',\n",
       " 'https://www.epey.com/akilli-telefonlar/samsung-galaxy-z-fold3-5g.html',\n",
       " 'https://www.epey.com/akilli-telefonlar/samsung-galaxy-s22.html',\n",
       " 'https://www.epey.com/akilli-telefonlar/samsung-galaxy-s21-plus-256gb.html',\n",
       " 'https://www.epey.com/akilli-telefonlar/xiaomi-mi-11-256gb.html',\n",
       " 'https://www.epey.com/akilli-telefonlar/apple-iphone-14-512gb.html',\n",
       " 'https://www.epey.com/akilli-telefonlar/samsung-galaxy-note-20-ultra.html',\n",
       " 'https://www.epey.com/akilli-telefonlar/huawei-p40-pro.html',\n",
       " 'https://www.epey.com/akilli-telefonlar/samsung-galaxy-note-10-plus-star-wars-special-edition.html',\n",
       " 'https://www.epey.com/akilli-telefonlar/samsung-galaxy-note-10-plus.html',\n",
       " 'https://www.epey.com/akilli-telefonlar/xiaomi-11t-pro-256gb.html',\n",
       " 'https://www.epey.com/akilli-telefonlar/oppo-find-x2.html',\n",
       " 'https://www.epey.com/akilli-telefonlar/apple-iphone-12-pro-512gb.html',\n",
       " 'https://www.epey.com/akilli-telefonlar/samsung-galaxy-s21-fe-5g-256gb.html',\n",
       " 'https://www.epey.com/akilli-telefonlar/apple-iphone-13-512gb.html',\n",
       " 'https://www.epey.com/akilli-telefonlar/apple-iphone-12-pro-256gb.html',\n",
       " 'https://www.epey.com/akilli-telefonlar/huawei-mate-xs-2.html',\n",
       " 'https://www.epey.com/akilli-telefonlar/xiaomi-12t-256gb.html',\n",
       " 'https://www.epey.com/akilli-telefonlar/samsung-galaxy-s20-fe-sm-g780g-256.html',\n",
       " 'https://www.epey.com/akilli-telefonlar/xiaomi-11t-pro.html',\n",
       " 'https://www.epey.com/akilli-telefonlar/samsung-galaxy-s21.html',\n",
       " 'https://www.epey.com/akilli-telefonlar/samsung-galaxy-s21-fe.html',\n",
       " 'https://www.epey.com/akilli-telefonlar/samsung-galaxy-z-flip4.html',\n",
       " 'https://www.epey.com/akilli-telefonlar/apple-iphone-13-mini-512gb.html',\n",
       " 'https://www.epey.com/akilli-telefonlar/apple-iphone-12-pro.html',\n",
       " 'https://www.epey.com/akilli-telefonlar/samsung-galaxy-s20-plus-plus-bts-edition.html',\n",
       " 'https://www.epey.com/akilli-telefonlar/samsung-galaxy-s20-plus.html',\n",
       " 'https://www.epey.com/akilli-telefonlar/samsung-galaxy-s10-plus-512gb.html',\n",
       " 'https://www.epey.com/akilli-telefonlar/samsung-galaxy-s20-fe-256gb.html',\n",
       " 'https://www.epey.com/akilli-telefonlar/huawei-mate-30-pro.html',\n",
       " 'https://www.epey.com/akilli-telefonlar/samsung-galaxy-s20.html',\n",
       " 'https://www.epey.com/akilli-telefonlar/oneplus-9.html',\n",
       " 'https://www.epey.com/akilli-telefonlar/samsung-galaxy-z-fold2.html',\n",
       " 'https://www.epey.com/akilli-telefonlar/apple-iphone-12-256gb.html',\n",
       " 'https://www.epey.com/akilli-telefonlar/xiaomi-mi-10.html',\n",
       " 'https://www.epey.com/akilli-telefonlar/samsung-galaxy-s20-fe.html',\n",
       " 'https://www.epey.com/akilli-telefonlar/apple-iphone-11-pro-max-512gb.html',\n",
       " 'https://www.epey.com/akilli-telefonlar/samsung-galaxy-a73-5g-256gb.html',\n",
       " 'https://www.epey.com/akilli-telefonlar/xiaomi-11t.html',\n",
       " 'https://www.epey.com/akilli-telefonlar/realme-gt-neo-2.html',\n",
       " 'https://www.epey.com/akilli-telefonlar/poco-f4-5g.html',\n",
       " 'https://www.epey.com/akilli-telefonlar/samsung-galaxy-s10-plus.html',\n",
       " 'https://www.epey.com/akilli-telefonlar/apple-iphone-12-mini-256gb.html',\n",
       " 'https://www.epey.com/akilli-telefonlar/samsung-galaxy-note-20.html',\n",
       " 'https://www.epey.com/akilli-telefonlar/huawei-p50-pocket.html',\n",
       " 'https://www.epey.com/akilli-telefonlar/xiaomi-mi-10t-pro-256gb.html',\n",
       " 'https://www.epey.com/akilli-telefonlar/xiaomi-black-shark-4-256gb.html',\n",
       " 'https://www.epey.com/akilli-telefonlar/samsung-galaxy-z-flip3-5g.html',\n",
       " 'https://www.epey.com/akilli-telefonlar/poco-x4-gt.html',\n",
       " 'https://www.epey.com/akilli-telefonlar/apple-iphone-12-128gb.html',\n",
       " 'https://www.epey.com/akilli-telefonlar/poco-f3-256gb.html',\n",
       " 'https://www.epey.com/akilli-telefonlar/samsung-galaxy-a73-5g.html',\n",
       " 'https://www.epey.com/akilli-telefonlar/huawei-p30-pro-256gb.html',\n",
       " 'https://www.epey.com/akilli-telefonlar/samsung-galaxy-note-10.html',\n",
       " 'https://www.epey.com/akilli-telefonlar/poco-f2-pro-256gb.html',\n",
       " 'https://www.epey.com/akilli-telefonlar/samsung-galaxy-s10.html',\n",
       " 'https://www.epey.com/akilli-telefonlar/apple-iphone-11-pro-512gb.html',\n",
       " 'https://www.epey.com/akilli-telefonlar/apple-iphone-12-mini-128gb.html',\n",
       " 'https://www.epey.com/akilli-telefonlar/oneplus-7t-pro.html',\n",
       " 'https://www.epey.com/akilli-telefonlar/samsung-galaxy-a52s-5g.html',\n",
       " 'https://www.epey.com/akilli-telefonlar/apple-iphone-11-pro-256gb.html',\n",
       " 'https://www.epey.com/akilli-telefonlar/poco-x4-gt-128gb.html',\n",
       " 'https://www.epey.com/akilli-telefonlar/samsung-galaxy-a53-5g.html',\n",
       " 'https://www.epey.com/akilli-telefonlar/apple-iphone-12.html',\n",
       " 'https://www.epey.com/akilli-telefonlar/realme-gt.html',\n",
       " 'https://www.epey.com/akilli-telefonlar/samsung-galaxy-a72-256gb.html',\n",
       " 'https://www.epey.com/akilli-telefonlar/huawei-mate-20-pro.html',\n",
       " 'https://www.epey.com/akilli-telefonlar/xiaomi-11-lite-5g-ne-256gb.html',\n",
       " 'https://www.epey.com/akilli-telefonlar/apple-iphone-12-mini.html',\n",
       " 'https://www.epey.com/akilli-telefonlar/xiaomi-mi-10t-8gb.html',\n",
       " 'https://www.epey.com/akilli-telefonlar/apple-iphone-11-pro-max.html',\n",
       " 'https://www.epey.com/akilli-telefonlar/oneplus-8.html',\n",
       " 'https://www.epey.com/akilli-telefonlar/vivo-v25.html',\n",
       " 'https://www.epey.com/akilli-telefonlar/huawei-p40.html',\n",
       " 'https://www.epey.com/akilli-telefonlar/poco-f3.html',\n",
       " 'https://www.epey.com/akilli-telefonlar/xiaomi-12-lite-5g.html',\n",
       " 'https://www.epey.com/akilli-telefonlar/oppo-reno-10x-zoom.html',\n",
       " 'https://www.epey.com/akilli-telefonlar/xiaomi-black-shark-4.html',\n",
       " 'https://www.epey.com/akilli-telefonlar/huawei-p30-pro.html',\n",
       " 'https://www.epey.com/akilli-telefonlar/poco-f2-pro.html',\n",
       " 'https://www.epey.com/akilli-telefonlar/poco-x3-gt-256gb.html',\n",
       " 'https://www.epey.com/akilli-telefonlar/samsung-galaxy-a33-5g.html',\n",
       " 'https://www.epey.com/akilli-telefonlar/poco-x3-pro-256gb.html',\n",
       " 'https://www.epey.com/akilli-telefonlar/xiaomi-mi-10t.html',\n",
       " 'https://www.epey.com/akilli-telefonlar/samsung-galaxy-a72.html',\n",
       " 'https://www.epey.com/akilli-telefonlar/xiaomi-mi-11-lite-5g.html',\n",
       " 'https://www.epey.com/akilli-telefonlar/samsung-galaxy-note-9-512gb.html',\n",
       " 'https://www.epey.com/akilli-telefonlar/huawei-mate-xs.html',\n",
       " 'https://www.epey.com/akilli-telefonlar/xiaomi-11-lite-5g-ne-8-128.html',\n",
       " 'https://www.epey.com/akilli-telefonlar/oneplus-nord-256gb.html',\n",
       " 'https://www.epey.com/akilli-telefonlar/huawei-nova-10-pro.html',\n",
       " 'https://www.epey.com/akilli-telefonlar/redmi-note-10-pro-8-256.html',\n",
       " 'https://www.epey.com/akilli-telefonlar/oneplus-7t.html',\n",
       " 'https://www.epey.com/akilli-telefonlar/xiaomi-black-shark-3.html',\n",
       " 'https://www.epey.com/akilli-telefonlar/apple-iphone-11-pro.html',\n",
       " 'https://www.epey.com/akilli-telefonlar/poco-x4-pro-5g-256gb.html',\n",
       " 'https://www.epey.com/akilli-telefonlar/samsung-galaxy-m52-5g.html',\n",
       " 'https://www.epey.com/akilli-telefonlar/vivo-v23-5g.html',\n",
       " 'https://www.epey.com/akilli-telefonlar/poco-x3-gt.html',\n",
       " 'https://www.epey.com/akilli-telefonlar/xiaomi-11-lite-5g-ne.html',\n",
       " 'https://www.epey.com/akilli-telefonlar/oppo-reno3-pro.html',\n",
       " 'https://www.epey.com/akilli-telefonlar/redmi-note-11-pro-plus-5g-8gb.html',\n",
       " 'https://www.epey.com/akilli-telefonlar/xiaomi-mi-note-10-pro.html',\n",
       " 'https://www.epey.com/akilli-telefonlar/tcl-20-pro-5g.html',\n",
       " 'https://www.epey.com/akilli-telefonlar/realme-x2-pro.html',\n",
       " 'https://www.epey.com/akilli-telefonlar/honor-70.html',\n",
       " 'https://www.epey.com/akilli-telefonlar/samsung-galaxy-s10-lite.html',\n",
       " 'https://www.epey.com/akilli-telefonlar/apple-iphone-se-2022-256gb.html',\n",
       " 'https://www.epey.com/akilli-telefonlar/samsung-galaxy-a52.html',\n",
       " 'https://www.epey.com/akilli-telefonlar/infinix-zero-x-pro-256gb.html',\n",
       " 'https://www.epey.com/akilli-telefonlar/redmi-note-11-pro-plus-5g.html',\n",
       " 'https://www.epey.com/akilli-telefonlar/poco-x3-pro.html',\n",
       " 'https://www.epey.com/akilli-telefonlar/realme-gt-master-edition.html',\n",
       " 'https://www.epey.com/akilli-telefonlar/redmi-note-10-pro-8gb.html',\n",
       " 'https://www.epey.com/akilli-telefonlar/samsung-galaxy-m51.html',\n",
       " 'https://www.epey.com/akilli-telefonlar/redmi-note-11-pro-5g-8gb.html',\n",
       " 'https://www.epey.com/akilli-telefonlar/vivo-x51-5g.html',\n",
       " 'https://www.epey.com/akilli-telefonlar/samsung-galaxy-s10e.html',\n",
       " 'https://www.epey.com/akilli-telefonlar/samsung-galaxy-s9-plus-256gb.html',\n",
       " 'https://www.epey.com/akilli-telefonlar/samsung-galaxy-z-flip.html',\n",
       " 'https://www.epey.com/akilli-telefonlar/apple-iphone-xs-max-512gb.html',\n",
       " 'https://www.epey.com/akilli-telefonlar/lg-wing.html',\n",
       " 'https://www.epey.com/akilli-telefonlar/lg-g8s-thinq.html',\n",
       " 'https://www.epey.com/akilli-telefonlar/xiaomi-mi-9-128gb.html',\n",
       " 'https://www.epey.com/akilli-telefonlar/apple-iphone-11-256gb.html',\n",
       " 'https://www.epey.com/akilli-telefonlar/samsung-galaxy-note9.html',\n",
       " 'https://www.epey.com/akilli-telefonlar/redmi-note-10-pro.html',\n",
       " 'https://www.epey.com/akilli-telefonlar/apple-iphone-se-2022-128gb.html',\n",
       " 'https://www.epey.com/akilli-telefonlar/apple-iphone-xs-max-256gb.html',\n",
       " 'https://www.epey.com/akilli-telefonlar/poco-x4-pro-5g.html',\n",
       " 'https://www.epey.com/akilli-telefonlar/tecno-camon-18-premier.html',\n",
       " 'https://www.epey.com/akilli-telefonlar/apple-iphone-xs-512gb.html',\n",
       " 'https://www.epey.com/akilli-telefonlar/tecno-pova-4-pro.html',\n",
       " 'https://www.epey.com/akilli-telefonlar/redmi-note-11-pro-5g.html',\n",
       " 'https://www.epey.com/akilli-telefonlar/huawei-nova-10.html',\n",
       " 'https://www.epey.com/akilli-telefonlar/infinix-zero-x-pro.html',\n",
       " 'https://www.epey.com/akilli-telefonlar/honor-50.html',\n",
       " 'https://www.epey.com/akilli-telefonlar/xiaomi-mi-note-10.html',\n",
       " 'https://www.epey.com/akilli-telefonlar/tecno-phantom-x.html',\n",
       " 'https://www.epey.com/akilli-telefonlar/huawei-nova-9.html',\n",
       " 'https://www.epey.com/akilli-telefonlar/samsung-galaxy-note-10-lite.html',\n",
       " 'https://www.epey.com/akilli-telefonlar/apple-iphone-xs-256gb.html',\n",
       " 'https://www.epey.com/akilli-telefonlar/oppo-reno2.html',\n",
       " 'https://www.epey.com/akilli-telefonlar/xiaomi-mi-9t-pro-128gb.html',\n",
       " 'https://www.epey.com/akilli-telefonlar/samsung-galaxy-s9-plus-128gb.html',\n",
       " 'https://www.epey.com/akilli-telefonlar/lg-velvet-4g.html',\n",
       " 'https://www.epey.com/akilli-telefonlar/xiaomi-mi-9.html',\n",
       " 'https://www.epey.com/akilli-telefonlar/infinix-note-12-vip.html',\n",
       " 'https://www.epey.com/akilli-telefonlar/apple-iphone-se-2022.html',\n",
       " 'https://www.epey.com/akilli-telefonlar/xiaomi-mi-10t-lite-128gb.html',\n",
       " 'https://www.epey.com/akilli-telefonlar/apple-iphone-11-128gb.html',\n",
       " 'https://www.epey.com/akilli-telefonlar/omix-x700-256gb.html',\n",
       " 'https://www.epey.com/akilli-telefonlar/oneplus-7-256gb.html',\n",
       " 'https://www.epey.com/akilli-telefonlar/redmi-note-11-pro-8gb.html',\n",
       " 'https://www.epey.com/akilli-telefonlar/oppo-reno4-pro.html',\n",
       " 'https://www.epey.com/akilli-telefonlar/poco-x3-nfc-128gb.html',\n",
       " 'https://www.epey.com/akilli-telefonlar/xiaomi-mi-11-lite-8gb.html',\n",
       " 'https://www.epey.com/akilli-telefonlar/vivo-v21.html',\n",
       " 'https://www.epey.com/akilli-telefonlar/huawei-p30.html',\n",
       " 'https://www.epey.com/akilli-telefonlar/oneplus-nord-ce-5g-256gb.html',\n",
       " 'https://www.epey.com/akilli-telefonlar/xiaomi-mi-9t-pro.html',\n",
       " 'https://www.epey.com/akilli-telefonlar/samsung-galaxy-s9-plus.html',\n",
       " 'https://www.epey.com/akilli-telefonlar/redmi-note-11-pro-4g.html',\n",
       " 'https://www.epey.com/akilli-telefonlar/samsung-galaxy-s9-plus-duos.html',\n",
       " 'https://www.epey.com/akilli-telefonlar/redmi-note-10s-8-128gb.html',\n",
       " 'https://www.epey.com/akilli-telefonlar/nubia-red-magic-5g-lite.html',\n",
       " 'https://www.epey.com/akilli-telefonlar/xiaomi-mi-11-lite.html',\n",
       " 'https://www.epey.com/akilli-telefonlar/samsung-galaxy-m33-5g.html',\n",
       " 'https://www.epey.com/akilli-telefonlar/xiaomi-mi-10t-lite.html',\n",
       " 'https://www.epey.com/akilli-telefonlar/apple-iphone-11.html',\n",
       " 'https://www.epey.com/akilli-telefonlar/xiaomi-mi-note-10-lite-8gb.html',\n",
       " 'https://www.epey.com/akilli-telefonlar/samsung-galaxy-a71.html',\n",
       " 'https://www.epey.com/akilli-telefonlar/omix-x700.html',\n",
       " 'https://www.epey.com/akilli-telefonlar/samsung-galaxy-m31s.html',\n",
       " 'https://www.epey.com/akilli-telefonlar/apple-iphone-xs-max.html',\n",
       " 'https://www.epey.com/akilli-telefonlar/xiaomi-mi-10-lite-5g.html',\n",
       " 'https://www.epey.com/akilli-telefonlar/poco-m5s.html',\n",
       " 'https://www.epey.com/akilli-telefonlar/poco-x3-nfc.html',\n",
       " 'https://www.epey.com/akilli-telefonlar/tecno-camon-19-pro.html',\n",
       " 'https://www.epey.com/akilli-telefonlar/redmi-note-9-pro-128gb.html',\n",
       " 'https://www.epey.com/akilli-telefonlar/poco-m4-pro-256gb.html',\n",
       " 'https://www.epey.com/akilli-telefonlar/oppo-reno6-4g.html',\n",
       " 'https://www.epey.com/akilli-telefonlar/oppo-reno5.html',\n",
       " 'https://www.epey.com/akilli-telefonlar/oppo-reno5-marvel-edition.html',\n",
       " 'https://www.epey.com/akilli-telefonlar/poco-m4-pro-5g-128gb.html',\n",
       " 'https://www.epey.com/akilli-telefonlar/huawei-p20-pro.html',\n",
       " 'https://www.epey.com/akilli-telefonlar/redmi-note-10s.html',\n",
       " 'https://www.epey.com/akilli-telefonlar/apple-iphone-x-256gb.html',\n",
       " 'https://www.epey.com/akilli-telefonlar/apple-iphone-xs.html',\n",
       " 'https://www.epey.com/akilli-telefonlar/xiaomi-mi-note-10-lite-128gb.html',\n",
       " 'https://www.epey.com/akilli-telefonlar/realme-7-pro.html',\n",
       " 'https://www.epey.com/akilli-telefonlar/redmi-note-11s-128gb.html',\n",
       " 'https://www.epey.com/akilli-telefonlar/xiaomi-redmi-note-9s-128gb.html',\n",
       " 'https://www.epey.com/akilli-telefonlar/samsung-galaxy-m31.html',\n",
       " 'https://www.epey.com/akilli-telefonlar/infinix-note-12-g96-256gb.html',\n",
       " 'https://www.epey.com/akilli-telefonlar/realme-6-pro.html',\n",
       " 'https://www.epey.com/akilli-telefonlar/redmi-note-10-6gb.html',\n",
       " 'https://www.epey.com/akilli-telefonlar/vivo-v21e.html',\n",
       " 'https://www.epey.com/akilli-telefonlar/samsung-galaxy-a51-256gb.html',\n",
       " 'https://www.epey.com/akilli-telefonlar/realme-8.html',\n",
       " 'https://www.epey.com/akilli-telefonlar/oppo-reno4.html',\n",
       " 'https://www.epey.com/akilli-telefonlar/redmi-note-11s-6-128gb.html',\n",
       " 'https://www.epey.com/akilli-telefonlar/infinix-note-10-pro.html',\n",
       " 'https://www.epey.com/akilli-telefonlar/samsung-galaxy-m23-5g.html',\n",
       " 'https://www.epey.com/akilli-telefonlar/realme-8-pro.html',\n",
       " 'https://www.epey.com/akilli-telefonlar/tecno-camon-18p.html',\n",
       " 'https://www.epey.com/akilli-telefonlar/redmi-note-9-pro.html',\n",
       " 'https://www.epey.com/akilli-telefonlar/vivo-y35.html',\n",
       " 'https://www.epey.com/akilli-telefonlar/apple-iphone-se-2020-256gb.html',\n",
       " 'https://www.epey.com/akilli-telefonlar/tecno-pova-4.html',\n",
       " 'https://www.epey.com/akilli-telefonlar/xiaomi-mi-9t-128gb.html',\n",
       " 'https://www.epey.com/akilli-telefonlar/redmi-note-10s-64gb.html',\n",
       " 'https://www.epey.com/akilli-telefonlar/tcl-10-pro.html',\n",
       " 'https://www.epey.com/akilli-telefonlar/redmi-note-11-6gb.html',\n",
       " 'https://www.epey.com/akilli-telefonlar/oppo-reno7.html',\n",
       " 'https://www.epey.com/akilli-telefonlar/realme-x2.html',\n",
       " 'https://www.epey.com/akilli-telefonlar/redmi-note-10-128gb.html',\n",
       " 'https://www.epey.com/akilli-telefonlar/xiaomi-mi-note-10-lite.html',\n",
       " 'https://www.epey.com/akilli-telefonlar/samsung-galaxy-s9.html',\n",
       " 'https://www.epey.com/akilli-telefonlar/huawei-mate-20.html',\n",
       " 'https://www.epey.com/akilli-telefonlar/samsung-galaxy-note-8.html',\n",
       " 'https://www.epey.com/akilli-telefonlar/tcl-20-5g.html',\n",
       " 'https://www.epey.com/akilli-telefonlar/oppo-reno3.html',\n",
       " 'https://www.epey.com/akilli-telefonlar/tecno-pova-3.html',\n",
       " 'https://www.epey.com/akilli-telefonlar/tcl-10-plus-256gb.html',\n",
       " 'https://www.epey.com/akilli-telefonlar/xiaomi-mi-9-lite-128gb.html',\n",
       " 'https://www.epey.com/akilli-telefonlar/infinix-note-12-g96.html',\n",
       " 'https://www.epey.com/akilli-telefonlar/infinix-note-11-pro.html',\n",
       " 'https://www.epey.com/akilli-telefonlar/poco-m4-pro.html',\n",
       " 'https://www.epey.com/akilli-telefonlar/tecno-camon-16-premier.html',\n",
       " 'https://www.epey.com/akilli-telefonlar/infinix-note-11s.html',\n",
       " 'https://www.epey.com/akilli-telefonlar/redmi-note-11-128gb.html',\n",
       " 'https://www.epey.com/akilli-telefonlar/oppo-reno5-lite.html',\n",
       " 'https://www.epey.com/akilli-telefonlar/apple-iphone-xr-256gb.html',\n",
       " 'https://www.epey.com/akilli-telefonlar/general-mobile-gm-22-pro.html',\n",
       " 'https://www.epey.com/akilli-telefonlar/realme-6-8gb.html',\n",
       " 'https://www.epey.com/akilli-telefonlar/huawei-mate-10-porsche-design.html',\n",
       " 'https://www.epey.com/akilli-telefonlar/redmi-note-11s.html',\n",
       " 'https://www.epey.com/akilli-telefonlar/oppo-reno2-z.html',\n",
       " 'https://www.epey.com/akilli-telefonlar/oneplus-nord-n10-5g.html',\n",
       " 'https://www.epey.com/akilli-telefonlar/redmi-note-8-pro-128gb.html',\n",
       " 'https://www.epey.com/akilli-telefonlar/redmi-note-9s.html',\n",
       " 'https://www.epey.com/akilli-telefonlar/samsung-galaxy-a32-128gb.html',\n",
       " 'https://www.epey.com/akilli-telefonlar/xiaomi-mi-9t.html',\n",
       " 'https://www.epey.com/akilli-telefonlar/apple-iphone-se-2020-128gb.html',\n",
       " 'https://www.epey.com/akilli-telefonlar/huawei-mate-10-pro.html',\n",
       " 'https://www.epey.com/akilli-telefonlar/apple-iphone-x.html',\n",
       " 'https://www.epey.com/akilli-telefonlar/infinix-zero-8.html',\n",
       " 'https://www.epey.com/akilli-telefonlar/redmi-note-10.html',\n",
       " 'https://www.epey.com/akilli-telefonlar/xiaomi-mi-mix-3.html',\n",
       " 'https://www.epey.com/akilli-telefonlar/xiaomi-mi-8-pro.html',\n",
       " 'https://www.epey.com/akilli-telefonlar/samsung-galaxy-a70-dual.html',\n",
       " 'https://www.epey.com/akilli-telefonlar/samsung-galaxy-a70.html',\n",
       " 'https://www.epey.com/akilli-telefonlar/samsung-galaxy-m32.html',\n",
       " 'https://www.epey.com/akilli-telefonlar/samsung-galaxy-a23-6-128gb.html',\n",
       " 'https://www.epey.com/akilli-telefonlar/lg-v30-plus.html',\n",
       " 'https://www.epey.com/akilli-telefonlar/apple-iphone-8-plus-productred-special-edition-256gb.html',\n",
       " 'https://www.epey.com/akilli-telefonlar/apple-iphone-8-plus-256gb.html',\n",
       " 'https://www.epey.com/akilli-telefonlar/huawei-nova-10-se.html',\n",
       " 'https://www.epey.com/akilli-telefonlar/tcl-20l-plus.html',\n",
       " 'https://www.epey.com/akilli-telefonlar/xiaomi-mi-9-lite.html',\n",
       " 'https://www.epey.com/akilli-telefonlar/samsung-galaxy-a51.html',\n",
       " 'https://www.epey.com/akilli-telefonlar/redmi-note-10-5g-128-6gb.html',\n",
       " 'https://www.epey.com/akilli-telefonlar/tcl-10-plus-128gb.html',\n",
       " 'https://www.epey.com/akilli-telefonlar/samsung-galaxy-a80.html',\n",
       " 'https://www.epey.com/akilli-telefonlar/huawei-nova-5t.html',\n",
       " 'https://www.epey.com/akilli-telefonlar/xiaomi-mi-9-se-128gb.html',\n",
       " 'https://www.epey.com/akilli-telefonlar/redmi-note-11.html',\n",
       " 'https://www.epey.com/akilli-telefonlar/oppo-reno4-lite.html',\n",
       " 'https://www.epey.com/akilli-telefonlar/poco-m3-pro-5g-128gb.html',\n",
       " 'https://www.epey.com/akilli-telefonlar/samsung-galaxy-a23.html',\n",
       " 'https://www.epey.com/akilli-telefonlar/lg-g7-thinq.html',\n",
       " 'https://www.epey.com/akilli-telefonlar/honor-20.html',\n",
       " 'https://www.epey.com/akilli-telefonlar/apple-iphone-xr-128gb.html',\n",
       " 'https://www.epey.com/akilli-telefonlar/oppo-a96.html',\n",
       " 'https://www.epey.com/akilli-telefonlar/htc-u11-plus.html',\n",
       " 'https://www.epey.com/akilli-telefonlar/tecno-pova-neo-2-128gb.html',\n",
       " 'https://www.epey.com/akilli-telefonlar/redmi-9t-128gb.html',\n",
       " 'https://www.epey.com/akilli-telefonlar/realme-xt.html',\n",
       " 'https://www.epey.com/akilli-telefonlar/redmi-note-8-pro.html',\n",
       " 'https://www.epey.com/akilli-telefonlar/realme-6.html',\n",
       " 'https://www.epey.com/akilli-telefonlar/apple-iphone-se-2020.html',\n",
       " 'https://www.epey.com/akilli-telefonlar/redmi-note-10-5g.html',\n",
       " 'https://www.epey.com/akilli-telefonlar/samsung-galaxy-s8-plus.html',\n",
       " 'https://www.epey.com/akilli-telefonlar/oppo-reno.html',\n",
       " 'https://www.epey.com/akilli-telefonlar/xiaomi-mi-8-128gb.html',\n",
       " 'https://www.epey.com/akilli-telefonlar/oppo-rx17-pro.html',\n",
       " 'https://www.epey.com/akilli-telefonlar/huawei-mate-9-porsche-design.html',\n",
       " 'https://www.epey.com/akilli-telefonlar/tecno-camon-18.html',\n",
       " 'https://www.epey.com/akilli-telefonlar/huawei-p40-lite.html',\n",
       " 'https://www.epey.com/akilli-telefonlar/samsung-galaxy-m30s.html',\n",
       " 'https://www.epey.com/akilli-telefonlar/samsung-galaxy-m21.html',\n",
       " 'https://www.epey.com/akilli-telefonlar/oneplus-6-128gb.html',\n",
       " 'https://www.epey.com/akilli-telefonlar/meizu-16-th-128gb.html',\n",
       " 'https://www.epey.com/akilli-telefonlar/apple-iphone-8-plus-128gb.html',\n",
       " 'https://www.epey.com/akilli-telefonlar/poco-m5-128gb.html',\n",
       " 'https://www.epey.com/akilli-telefonlar/realme-7.html',\n",
       " 'https://www.epey.com/akilli-telefonlar/tcl-10-plus.html',\n",
       " 'https://www.epey.com/akilli-telefonlar/samsung-galaxy-a31.html',\n",
       " 'https://www.epey.com/akilli-telefonlar/samsung-galaxy-s7-edge-128gb.html']"
      ]
     },
     "execution_count": 57,
     "metadata": {},
     "output_type": "execute_result"
    }
   ],
   "source": [
    "product_links = []\n",
    "for page in product_pages:\n",
    "    driver = webdriver.Chrome(chromedriver)\n",
    "    driver.get(page)\n",
    "    soup = bts(driver.page_source, \"html.parser\")\n",
    "    for i in soup.findAll('div', {'class': 'detay cell'}):\n",
    "        product_links.append(i.a.get('href'))\n",
    "    time.sleep(2)\n",
    "    \n",
    "product_links"
   ]
  },
  {
   "cell_type": "code",
   "execution_count": null,
   "id": "8f8a9904",
   "metadata": {
    "id": "8f8a9904",
    "outputId": "4012a56f-5f21-4d16-ea9e-0cc412719964"
   },
   "outputs": [
    {
     "data": {
      "text/plain": [
       "320"
      ]
     },
     "execution_count": 58,
     "metadata": {},
     "output_type": "execute_result"
    }
   ],
   "source": [
    "len(product_links)"
   ]
  },
  {
   "cell_type": "code",
   "execution_count": null,
   "id": "8b14ac3a",
   "metadata": {
    "id": "8b14ac3a"
   },
   "outputs": [],
   "source": [
    "driver_example = webdriver.Chrome(chromedriver)\n",
    "driver_example.get('https://www.epey.com/akilli-telefonlar/apple-iphone-14-pro-max-1tb.html')\n",
    "html = bts(driver_example.page_source, \"html.parser\")"
   ]
  },
  {
   "cell_type": "code",
   "execution_count": null,
   "id": "730673e7",
   "metadata": {
    "id": "730673e7",
    "outputId": "310bc009-3056-49c0-8622-14b2cda7edaa"
   },
   "outputs": [
    {
     "data": {
      "text/plain": [
       "'Apple iPhone 14 Pro Max (1 TB)'"
      ]
     },
     "execution_count": 60,
     "metadata": {},
     "output_type": "execute_result"
    }
   ],
   "source": [
    "#Name\n",
    "html.find('div', {'class': 'baslik'}).text.strip().split('\\n')[0]"
   ]
  },
  {
   "cell_type": "code",
   "execution_count": null,
   "id": "dd5fe3ec",
   "metadata": {
    "id": "dd5fe3ec",
    "outputId": "5968e9e2-7759-4c3c-a31a-34e54aaf0e06"
   },
   "outputs": [
    {
     "data": {
      "text/plain": [
       "'59.199,00'"
      ]
     },
     "execution_count": 61,
     "metadata": {},
     "output_type": "execute_result"
    }
   ],
   "source": [
    "#Price\n",
    "html.find('span', {'class': 'urun_fiyat'}).text.strip().split(' ')[0]"
   ]
  },
  {
   "cell_type": "code",
   "execution_count": null,
   "id": "6a863c0e",
   "metadata": {
    "id": "6a863c0e",
    "outputId": "e49d1d70-2b73-4543-ee21-3c13a36c8bc8"
   },
   "outputs": [
    {
     "data": {
      "text/plain": [
       "'100puan'"
      ]
     },
     "execution_count": 62,
     "metadata": {},
     "output_type": "execute_result"
    }
   ],
   "source": [
    "#Puan\n",
    "html.find('div',{'id':'puan'}).text"
   ]
  },
  {
   "cell_type": "code",
   "execution_count": null,
   "id": "aa791b23",
   "metadata": {
    "id": "aa791b23",
    "outputId": "99e03358-f0bd-4272-f049-c6ac62726e50"
   },
   "outputs": [
    {
     "data": {
      "text/plain": [
       "'6.7 İnç'"
      ]
     },
     "execution_count": 63,
     "metadata": {},
     "output_type": "execute_result"
    }
   ],
   "source": [
    "html.find('div', {'id': 'oncelikli'}).find(text=re.compile(\"Ekran Boyutu\")).findNext().text.strip()"
   ]
  },
  {
   "cell_type": "code",
   "execution_count": null,
   "id": "96599031",
   "metadata": {
    "id": "96599031",
    "outputId": "23a1c051-2bea-4c76-e690-fe1f3ff88eb0"
   },
   "outputs": [
    {
     "data": {
      "text/plain": [
       "'1 TB'"
      ]
     },
     "execution_count": 64,
     "metadata": {},
     "output_type": "execute_result"
    }
   ],
   "source": [
    "html.find('div', {'id': 'oncelikli'}).find(text=re.compile(\"Dahili Depolama\")).findNext().text.strip()"
   ]
  },
  {
   "cell_type": "code",
   "execution_count": null,
   "id": "e4b17a92",
   "metadata": {
    "id": "e4b17a92",
    "outputId": "4ef70c38-8404-48ed-dcd3-fe9b62318bc7"
   },
   "outputs": [
    {
     "data": {
      "text/plain": [
       "'6 GB'"
      ]
     },
     "execution_count": 65,
     "metadata": {},
     "output_type": "execute_result"
    }
   ],
   "source": [
    "html.find('div', {'id': 'oncelikli'}).find(text=re.compile(\"Bellek\")).findNext().text.strip()"
   ]
  },
  {
   "cell_type": "code",
   "execution_count": null,
   "id": "06d1edbc",
   "metadata": {
    "id": "06d1edbc",
    "outputId": "85914845-f52c-4e6d-8328-82366dfe4f84"
   },
   "outputs": [
    {
     "data": {
      "text/plain": [
       "'4323 mAh'"
      ]
     },
     "execution_count": 66,
     "metadata": {},
     "output_type": "execute_result"
    }
   ],
   "source": [
    "html.find('div', {'id': 'oncelikli'}).find(text=re.compile(\"Batarya Kapasitesi\")).findNext().text.strip()"
   ]
  },
  {
   "cell_type": "code",
   "execution_count": null,
   "id": "6651d9a3",
   "metadata": {
    "id": "6651d9a3",
    "outputId": "6cd00c3f-6145-4809-b3d6-76a5d3aa6639"
   },
   "outputs": [
    {
     "data": {
      "text/plain": [
       "'Çift Hat'"
      ]
     },
     "execution_count": 67,
     "metadata": {},
     "output_type": "execute_result"
    }
   ],
   "source": [
    "html.find('div', {'id': 'oncelikli'}).find(text=re.compile(\"Hat Sayısı\")).findNext().text.strip()"
   ]
  },
  {
   "cell_type": "code",
   "execution_count": null,
   "id": "fb4006eb",
   "metadata": {
    "id": "fb4006eb",
    "outputId": "40c7bfb9-5dfd-47a6-e50b-476dfeeaf47d"
   },
   "outputs": [
    {
     "data": {
      "text/plain": [
       "'Var'"
      ]
     },
     "execution_count": 68,
     "metadata": {},
     "output_type": "execute_result"
    }
   ],
   "source": [
    "html.find('div', {'id': 'oncelikli'}).find(text=re.compile(\"Hızlı Şarj\")).findNext().text.strip()"
   ]
  },
  {
   "cell_type": "code",
   "execution_count": null,
   "id": "d317fb1d",
   "metadata": {
    "id": "d317fb1d",
    "outputId": "d52d277f-9dcf-4894-f53d-8b05642fc825"
   },
   "outputs": [
    {
     "data": {
      "text/plain": [
       "'48 MP'"
      ]
     },
     "execution_count": 69,
     "metadata": {},
     "output_type": "execute_result"
    }
   ],
   "source": [
    "html.find('div', {'id': 'ozellikler'}).find(text=re.compile(\"Kamera Çözünürlüğü\")).findNext().text.strip()\n"
   ]
  },
  {
   "cell_type": "code",
   "execution_count": null,
   "id": "a6cef580",
   "metadata": {
    "id": "a6cef580",
    "outputId": "dfa6c64b-57e6-49bc-fe6e-edcc7d7bef54"
   },
   "outputs": [
    {
     "data": {
      "text/plain": [
       "'Yok'"
      ]
     },
     "execution_count": 70,
     "metadata": {},
     "output_type": "execute_result"
    }
   ],
   "source": [
    "html.find('div', {'id': 'ozellikler'}).find(text=re.compile(\"Parmak izi\")).findNext().text.strip()"
   ]
  },
  {
   "cell_type": "code",
   "execution_count": null,
   "id": "e0f825a0",
   "metadata": {
    "id": "e0f825a0",
    "outputId": "cd8a846a-9173-475e-cc40-f8a5ed6dbd73"
   },
   "outputs": [
    {
     "data": {
      "text/plain": [
       "'120 Hz'"
      ]
     },
     "execution_count": 71,
     "metadata": {},
     "output_type": "execute_result"
    }
   ],
   "source": [
    "html.find('div', {'id': 'ozellikler'}).find(text=re.compile(\"Ekran Yenileme\")).findNext().text.strip()"
   ]
  },
  {
   "cell_type": "code",
   "execution_count": null,
   "id": "fd725833",
   "metadata": {
    "id": "fd725833",
    "outputId": "4793062f-627b-4b34-cb68-e8a2780bf7d6"
   },
   "outputs": [
    {
     "data": {
      "text/plain": [
       "'Var'"
      ]
     },
     "execution_count": 72,
     "metadata": {},
     "output_type": "execute_result"
    }
   ],
   "source": [
    "html.find('div', {'id': 'oncelikli'}).find(text=re.compile(\"Hızlı Şarj\")).findNext().text.strip()"
   ]
  },
  {
   "cell_type": "code",
   "execution_count": null,
   "id": "36eaf847",
   "metadata": {
    "id": "36eaf847",
    "outputId": "fbdc7e78-f496-4a21-aca2-354af453b43a"
   },
   "outputs": [
    {
     "data": {
      "text/plain": [
       "'iOS'"
      ]
     },
     "execution_count": 73,
     "metadata": {},
     "output_type": "execute_result"
    }
   ],
   "source": [
    "html.find('div', {'id': 'ozellikler'}).find(text=re.compile(\"İşletim Sistemi\")).findNext().text.strip()"
   ]
  },
  {
   "cell_type": "code",
   "execution_count": null,
   "id": "8df55dbf",
   "metadata": {
    "id": "8df55dbf",
    "outputId": "89817e08-91c9-4b98-dfeb-d209c5a1051c",
    "scrolled": true
   },
   "outputs": [
    {
     "data": {
      "text/plain": [
       "'Var'"
      ]
     },
     "execution_count": 74,
     "metadata": {},
     "output_type": "execute_result"
    }
   ],
   "source": [
    "html.find('div', {'id': 'ozellikler'}).find(text=re.compile(\"NFC\")).findNext().text.strip()"
   ]
  },
  {
   "cell_type": "code",
   "execution_count": null,
   "id": "9921cfc9",
   "metadata": {
    "id": "9921cfc9",
    "outputId": "490397a0-1219-4924-8e36-200fb0e0e24f"
   },
   "outputs": [
    {
     "data": {
      "text/html": [
       "<div>\n",
       "<style scoped>\n",
       "    .dataframe tbody tr th:only-of-type {\n",
       "        vertical-align: middle;\n",
       "    }\n",
       "\n",
       "    .dataframe tbody tr th {\n",
       "        vertical-align: top;\n",
       "    }\n",
       "\n",
       "    .dataframe thead th {\n",
       "        text-align: right;\n",
       "    }\n",
       "</style>\n",
       "<table border=\"1\" class=\"dataframe\">\n",
       "  <thead>\n",
       "    <tr style=\"text-align: right;\">\n",
       "      <th></th>\n",
       "      <th>Ürün</th>\n",
       "      <th>Ekran Boyutu</th>\n",
       "      <th>Dahili Depolama</th>\n",
       "      <th>Bellek(Ram)</th>\n",
       "      <th>Puan</th>\n",
       "      <th>Batarya Kapasitesi</th>\n",
       "      <th>Hat Sayısı</th>\n",
       "      <th>Hızlı Şarj</th>\n",
       "      <th>Kamera Çözünürlüğü</th>\n",
       "      <th>Parmak İzi</th>\n",
       "      <th>Ekran Yenileme Hızı</th>\n",
       "      <th>İşletim Sistemi</th>\n",
       "      <th>NFC</th>\n",
       "      <th>Fiyat</th>\n",
       "    </tr>\n",
       "  </thead>\n",
       "  <tbody>\n",
       "    <tr>\n",
       "      <th>0</th>\n",
       "      <td>Apple iPhone 14 Pro Max (1 TB)</td>\n",
       "      <td>6.7 İnç</td>\n",
       "      <td>1 TB</td>\n",
       "      <td>6 GB</td>\n",
       "      <td>100puan</td>\n",
       "      <td>4323 mAh</td>\n",
       "      <td>Çift Hat</td>\n",
       "      <td>Var</td>\n",
       "      <td>48 MP</td>\n",
       "      <td>Yok</td>\n",
       "      <td>120 Hz</td>\n",
       "      <td>iOS</td>\n",
       "      <td>Var</td>\n",
       "      <td>59.199,00</td>\n",
       "    </tr>\n",
       "    <tr>\n",
       "      <th>1</th>\n",
       "      <td>Apple iPhone 14 Pro (1 TB)</td>\n",
       "      <td>6.1 İnç</td>\n",
       "      <td>1 TB</td>\n",
       "      <td>6 GB</td>\n",
       "      <td>97puan</td>\n",
       "      <td>3200 mAh</td>\n",
       "      <td>Çift Hat</td>\n",
       "      <td>Var</td>\n",
       "      <td>48 MP</td>\n",
       "      <td>Yok</td>\n",
       "      <td>120 Hz</td>\n",
       "      <td>iOS</td>\n",
       "      <td>Var</td>\n",
       "      <td>54.959,00</td>\n",
       "    </tr>\n",
       "    <tr>\n",
       "      <th>2</th>\n",
       "      <td>Samsung Galaxy S22 Ultra (512 GB)</td>\n",
       "      <td>6.8 İnç</td>\n",
       "      <td>512 GB</td>\n",
       "      <td>12 GB</td>\n",
       "      <td>97puan</td>\n",
       "      <td>5000 mAh</td>\n",
       "      <td>Çift Hat</td>\n",
       "      <td>Var</td>\n",
       "      <td>108 MP</td>\n",
       "      <td>Var</td>\n",
       "      <td>120 Hz</td>\n",
       "      <td>Android</td>\n",
       "      <td>Var</td>\n",
       "      <td>34.890,00</td>\n",
       "    </tr>\n",
       "    <tr>\n",
       "      <th>3</th>\n",
       "      <td>Apple iPhone 13 Pro Max (1 TB)</td>\n",
       "      <td>6.7 İnç</td>\n",
       "      <td>1 TB</td>\n",
       "      <td>6 GB</td>\n",
       "      <td>94puan</td>\n",
       "      <td>4352 mAh</td>\n",
       "      <td>Çift Hat</td>\n",
       "      <td>Var</td>\n",
       "      <td>12 MP</td>\n",
       "      <td>Yok</td>\n",
       "      <td>120 Hz</td>\n",
       "      <td>iOS</td>\n",
       "      <td>Var</td>\n",
       "      <td>46.952,00</td>\n",
       "    </tr>\n",
       "    <tr>\n",
       "      <th>4</th>\n",
       "      <td>Xiaomi 12 Pro</td>\n",
       "      <td>6.73 İnç</td>\n",
       "      <td>256 GB</td>\n",
       "      <td>12 GB</td>\n",
       "      <td>94puan</td>\n",
       "      <td>4600 mAh</td>\n",
       "      <td>Çift Hat</td>\n",
       "      <td>Var</td>\n",
       "      <td>50 MP</td>\n",
       "      <td>Var</td>\n",
       "      <td>120 Hz</td>\n",
       "      <td>Android</td>\n",
       "      <td>Var</td>\n",
       "      <td>27.399,90</td>\n",
       "    </tr>\n",
       "  </tbody>\n",
       "</table>\n",
       "</div>"
      ],
      "text/plain": [
       "                                Ürün Ekran Boyutu Dahili Depolama Bellek(Ram)  \\\n",
       "0     Apple iPhone 14 Pro Max (1 TB)      6.7 İnç            1 TB        6 GB   \n",
       "1         Apple iPhone 14 Pro (1 TB)      6.1 İnç            1 TB        6 GB   \n",
       "2  Samsung Galaxy S22 Ultra (512 GB)      6.8 İnç          512 GB       12 GB   \n",
       "3     Apple iPhone 13 Pro Max (1 TB)      6.7 İnç            1 TB        6 GB   \n",
       "4                      Xiaomi 12 Pro     6.73 İnç          256 GB       12 GB   \n",
       "\n",
       "      Puan Batarya Kapasitesi Hat Sayısı Hızlı Şarj Kamera Çözünürlüğü  \\\n",
       "0  100puan           4323 mAh   Çift Hat        Var              48 MP   \n",
       "1   97puan           3200 mAh   Çift Hat        Var              48 MP   \n",
       "2   97puan           5000 mAh   Çift Hat        Var             108 MP   \n",
       "3   94puan           4352 mAh   Çift Hat        Var              12 MP   \n",
       "4   94puan           4600 mAh   Çift Hat        Var              50 MP   \n",
       "\n",
       "  Parmak İzi Ekran Yenileme Hızı İşletim Sistemi  NFC      Fiyat  \n",
       "0        Yok              120 Hz             iOS  Var  59.199,00  \n",
       "1        Yok              120 Hz             iOS  Var  54.959,00  \n",
       "2        Var              120 Hz         Android  Var  34.890,00  \n",
       "3        Yok              120 Hz             iOS  Var  46.952,00  \n",
       "4        Var              120 Hz         Android  Var  27.399,90  "
      ]
     },
     "execution_count": 75,
     "metadata": {},
     "output_type": "execute_result"
    }
   ],
   "source": [
    "data=[]\n",
    "for i in product_links:\n",
    "    driver=webdriver.Chrome(chromedriver)\n",
    "    driver.get(i)\n",
    "    html=bts(driver.page_source,\"html.parser\")\n",
    "    try:\n",
    "        urun_adı=html.find('div', {'class': 'baslik'}).text.strip().split('\\n')[0]\n",
    "    except:\n",
    "        urun_adı=np.nan\n",
    "    try:\n",
    "        ekran_boyutu=html.find('div', {'id': 'oncelikli'}).find(text=re.compile(\"Ekran Boyutu\")).findNext().text.strip()\n",
    "    except:\n",
    "        ekran_boyutu=np.nan\n",
    "    try:\n",
    "        dahili_depolama=html.find('div', {'id': 'oncelikli'}).find(text=re.compile(\"Dahili Depolama\")).findNext().text.strip()\n",
    "    except:\n",
    "        dahili_depolama=np.nan\n",
    "    try:\n",
    "        bellek=html.find('div', {'id': 'oncelikli'}).find(text=re.compile(\"Bellek\")).findNext().text.strip()\n",
    "    except:\n",
    "        bellek=np.nan\n",
    "    try:\n",
    "        puan=html.find('div',{'id':'puan'}).text\n",
    "    except:\n",
    "        puan=np.nan\n",
    "    try:\n",
    "        Batarya_kapasitesi=html.find('div', {'id': 'oncelikli'}).find(text=re.compile(\"Batarya Kapasitesi\")).findNext().text.strip()\n",
    "    except:\n",
    "        Batarya_kapasitesi=np.nan\n",
    "    try:\n",
    "        Hat_Sayısı=html.find('div', {'id': 'oncelikli'}).find(text=re.compile(\"Hat Sayısı\")).findNext().text.strip()\n",
    "    except:\n",
    "        Hat_Sayısı=np.nan\n",
    "    try:\n",
    "        Hızlı_Şarj=html.find('div', {'id': 'oncelikli'}).find(text=re.compile(\"Hızlı Şarj\")).findNext().text.strip()\n",
    "    except:\n",
    "        Hızlı_Şarj=np.nan\n",
    "    try:\n",
    "        Kamera_Coz=html.find('div', {'id': 'ozellikler'}).find(text=re.compile(\"Kamera Çözünürlüğü\")).findNext().text.strip()\n",
    "    except:\n",
    "        Kamera_Coz=np.nan\n",
    "    try:\n",
    "        parmak_izi=html.find('div', {'id': 'ozellikler'}).find(text=re.compile(\"Parmak izi\")).findNext().text.strip()\n",
    "    except:\n",
    "        parmak_izi=np.nan\n",
    "    try:\n",
    "        ekran_yenileme=html.find('div', {'id': 'ozellikler'}).find(text=re.compile(\"Ekran Yenileme\")).findNext().text.strip()\n",
    "    except:\n",
    "        ekran_yenileme=np.nan\n",
    "    try:\n",
    "        isletim_sist=html.find('div', {'id': 'ozellikler'}).find(text=re.compile(\"İşletim Sistemi\")).findNext().text.strip()\n",
    "    except:\n",
    "        isletim_sist=np.nan\n",
    "    try:\n",
    "        nfc=html.find('div', {'id': 'ozellikler'}).find(text=re.compile(\"NFC\")).findNext().text.strip()\n",
    "    except:\n",
    "        nfc=np.nan\n",
    "    try:\n",
    "        price=html.find('span', {'class': 'urun_fiyat'}).text.strip().split(' ')[0]\n",
    "    except:\n",
    "        price=np.nan\n",
    "        \n",
    "        \n",
    "    data.append([urun_adı,ekran_boyutu,dahili_depolama,bellek,puan,Batarya_kapasitesi,\n",
    "                 Hat_Sayısı,Hızlı_Şarj,Kamera_Coz,parmak_izi,ekran_yenileme,isletim_sist,nfc,price])\n",
    "    time.sleep(2)\n",
    "\n",
    "\n",
    "columns = [\"Ürün\",\"Ekran Boyutu\",\"Dahili Depolama\",\"Bellek(Ram)\",\"Puan\",\"Batarya Kapasitesi\",\"Hat Sayısı\",\"Hızlı Şarj\",\n",
    "           \"Kamera Çözünürlüğü\",\"Parmak İzi\",\"Ekran Yenileme Hızı\",\"İşletim Sistemi\",\"NFC\",\"Fiyat\"]\n",
    "df = pd.DataFrame.from_records(data, columns=columns) \n",
    "df.head()"
   ]
  },
  {
   "cell_type": "code",
   "execution_count": null,
   "id": "2a17d8a2",
   "metadata": {
    "id": "2a17d8a2"
   },
   "outputs": [],
   "source": [
    "#In this notebook, links from the first 10 pages are taken. \n",
    "#This the example of web scraping. Data in other 40 pages are taken and they are concated in the another notebook.\n",
    "df.to_csv('df_1-10.csv') "
   ]
  }
 ],
 "metadata": {
  "colab": {
   "provenance": []
  },
  "kernelspec": {
   "display_name": "Python 3 (ipykernel)",
   "language": "python",
   "name": "python3"
  },
  "language_info": {
   "codemirror_mode": {
    "name": "ipython",
    "version": 3
   },
   "file_extension": ".py",
   "mimetype": "text/x-python",
   "name": "python",
   "nbconvert_exporter": "python",
   "pygments_lexer": "ipython3",
   "version": "3.9.12"
  }
 },
 "nbformat": 4,
 "nbformat_minor": 5
}
